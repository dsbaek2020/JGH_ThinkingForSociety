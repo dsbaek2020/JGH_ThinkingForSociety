{
 "cells": [
  {
   "cell_type": "markdown",
   "id": "b0c7ae50-e07d-42a8-b11b-88faa63f1743",
   "metadata": {
    "panel-layout": {
     "height": 784.0625,
     "visible": true,
     "width": 100
    }
   },
   "source": [
    "## 진해여자고등학교 AI 창의 융합 독서 프로젝트 (코딩제작활동)\n",
    "> 2025년 7월 18-19  \n",
    "> 📄 강사: **백대성** (젤리코딩 원장) | ✉️ dsbaek898@icloud.com\n",
    "\n",
    "# 📘 경사하강법(Gradient Descent) 기초 강의노트\n",
    "\n",
    "## 🎯 목표\n",
    "\n",
    "우리는 어떤 직선이 주어진 데이터에 가장 잘 맞는지를 찾아보고자 합니다.  \n",
    "즉, **예측값과 실제값의 차이(오차)**를 줄이는 방향으로 파라미터(기울기와 절편)를 조정해 나가는 과정을 공부합니다.  \n",
    "이때 사용하는 대표적인 알고리즘이 바로 **경사하강법**입니다.\n",
    "\n",
    "---\n",
    "\n",
    "## 1️⃣ 직선부터 시작해 보자!\n",
    "\n",
    "중학교 때 배운 **직선의 식**을 기억하나요?\n",
    "\n",
    "```\n",
    "y = a * x + b\n",
    "```\n",
    "\n",
    "여기서:\n",
    "- `a`: 기울기  \n",
    "- `b`: y축과 만나는 점 (절편)\n",
    "\n",
    "이 식은 어떤 **규칙이나 경향**을 설명할 때 아주 많이 사용됩니다.\n",
    "\n",
    "예를 들어, 다음과 같은 데이터를 생각해봅시다:\n",
    "\n",
    "| 공부 시간 (x) | 시험 점수 (y) |\n",
    "|---------------|----------------|\n",
    "| 1시간         | 52점           |\n",
    "| 2시간         | 60점           |\n",
    "| 3시간         | 68점           |\n",
    "| 4시간         | 75점           |\n",
    "\n",
    "이 데이터를 **하나의 직선으로 표현할 수 있을까요?**\n",
    "\n",
    "---\n",
    "\n",
    "## 2️⃣ 점들을 가장 잘 통과하는 직선은?\n",
    "\n",
    "직선은 무한히 많지만, 우리는 점들을 **가장 잘 통과**하는 단 하나의 직선을 원합니다.\n",
    "\n",
    "예를 들어 아래 두 직선을 비교해보면…\n",
    "\n",
    "- 직선 A: 거의 모든 점 근처를 지나간다 → 좋은 예측 가능!\n",
    "- 직선 B: 대부분 점에서 멀리 떨어져 있다 → 예측 정확도 낮음\n",
    "\n",
    "이때 우리가 사용하려는 **좋은 직선을 찾는 방법**이 바로  \n",
    "**오차(Error)를 줄이는 방향으로** 직선을 조정하는 방법입니다.\n",
    "\n",
    "---\n",
    "\n",
    "## 3️⃣ 우리가 찾고 싶은 직선은?\n",
    "\n",
    "우리가 찾고자 하는 직선은 다음과 같이 씁니다:\n",
    "\n",
    "```\n",
    "y = w * x + b\n",
    "```\n",
    "\n",
    "- `w`: 기울기 (slope)  \n",
    "- `b`: 절편 (intercept)\n",
    "\n",
    "이 직선을 통해  \n",
    "**\"입력값 x를 주었을 때 y를 예측하는 함수\"**를 만들고 싶은 것입니다.\n",
    "\n",
    "---\n",
    "\n",
    "## 4️⃣ 오차(Error)란?\n",
    "\n",
    "우리가 예측한 값은 `y_hat = w * x + b`이고,  \n",
    "실제 값은 `y`입니다. 이 둘의 차이를 **오차(error)**라고 합니다.\n",
    "\n",
    "데이터가 여러 개 있을 경우, 각각의 오차를 모두 더한 후 평균을 구해줍니다.  \n",
    "이때 많이 사용하는 방법이 **평균제곱오차(MSE)**입니다:\n",
    "\n",
    "```\n",
    "L(w, b) = (1/n) * Σ (w * x_i + b - y_i)^2\n",
    "```\n",
    "\n",
    "- `n`: 데이터 개수  \n",
    "- `x_i`: 입력값  \n",
    "- `y_i`: 실제 출력값\n",
    "\n",
    "이 함수는 `w`와 `b`를 바꿔가며 오차를 계산해주는 함수입니다.\n",
    "\n",
    "---\n",
    "\n",
    "## 5️⃣ 경사하강법이란?\n",
    "\n",
    "오차 함수 `L(w, b)`는 어떤 값에서 **최소가 되는 지점**이 있습니다.  \n",
    "즉, 오차가 가장 작아지는 `w`와 `b`의 조합을 찾고 싶은 것입니다.\n",
    "\n",
    "이걸 찾기 위해 사용하는 방법이 바로 **경사하강법 (Gradient Descent)**입니다.\n",
    "\n",
    "비유하자면,\n",
    "\n",
    "> \"미끄러운 산 위에 공이 놓여 있을 때,  \n",
    "> 공은 가장 낮은 쪽으로 굴러가게 되죠?\"\n",
    "\n",
    "이때 '내려가는 방향'을 알려주는 것이 바로 **기울기(미분)**이고,  \n",
    "그 기울기를 따라 내려가며 오차를 줄여나가는 것이 경사하강법입니다.\n",
    "\n",
    "---\n",
    "\n",
    "### 🔁 경사하강법의 수식\n",
    "\n",
    "경사하강법은 다음과 같은 수식을 반복하여 사용합니다:\n",
    "\n",
    "```\n",
    "w := w - α * ∂L/∂w\n",
    "b := b - α * ∂L/∂b\n",
    "```\n",
    "\n",
    "- `α` (alpha): 학습률 (learning rate) — 얼마나 크게 이동할지를 결정하는 값입니다.\n",
    "\n",
    "> 너무 크면 정확한 지점을 지나칠 수 있고,  \n",
    "> 너무 작으면 도달하는 데 오래 걸립니다.\n",
    "\n",
    "---\n",
    "\n",
    "이제 여러분은 단순한 직선에서 시작하여,  \n",
    "데이터를 설명하고 예측하는 수학적 모델을 만들기 위한  \n",
    "**수식의 발전 과정**을 따라오셨습니다! 👏\n",
    "\n",
    "\n",
    "\n"
   ]
  },
  {
   "cell_type": "markdown",
   "id": "25b4e960-ad96-4dcf-a2b2-9539c7198348",
   "metadata": {
    "panel-layout": {
     "height": 665.234375,
     "visible": true,
     "width": 100
    }
   },
   "source": [
    "## 📊 데이터를 통해 직선을 찾는 이유는 무엇일까?\n",
    "\n",
    "우리는 다양한 분야에서 **데이터**를 관측하거나 측정합니다. 이 데이터들을 보면 일정한 **패턴**이나 **추세**가 있을 수 있고, 이런 경향성을 **하나의 직선**으로 표현하면 해석과 예측이 쉬워집니다.\n",
    "\n",
    "---\n",
    "\n",
    "### 🌌 예시 1: 천문학\n",
    "\n",
    "천문학자들은 어떤 별의 **거리(x)**와 그 별에서 오는 **밝기(y)**를 측정합니다. 여러 별에 대해 데이터를 수집하다 보면, **거리가 멀수록 밝기가 낮아지는 경향**이 보일 수 있습니다.\n",
    "\n",
    "- 이때 우리는 \"밝기 = 직선(거리)\"이라는 관계식을 찾고자 합니다.\n",
    "- 이 직선은 어떤 법칙이나 자연 현상을 설명해주는 **모델**이 됩니다.\n",
    "\n",
    "---\n",
    "\n",
    "### 🌍 예시 2: 지질학\n",
    "\n",
    "지질학자들은 특정 지역의 **지진 횟수(x)**와 **진도(y)**를 수십 년간 기록해 놓습니다. 시간이 흐르며 지진 강도가 서서히 커지는 추세가 있다면?\n",
    "\n",
    "- 과거 데이터를 직선으로 표현하면 **미래 지진의 강도 예측**에도 도움을 줍니다.\n",
    "- 직선은 단순하지만 **방향성과 평균적 변화율**을 보여줍니다.\n",
    "\n",
    "---\n",
    "\n",
    "### 🧃 예시 3: 일상 생활\n",
    "\n",
    "아침에 마신 커피 양(x)과 하루 집중력 점수(y)를 기록했다고 가정해봅시다. 며칠간 데이터를 모으다 보면 **커피를 많이 마신 날일수록 집중력이 높다**는 경향이 있을 수 있습니다.\n",
    "\n",
    "- 이때 \"집중력 = 직선(커피 양)\"이라는 관계를 찾으면 내일 아침 **몇 잔의 커피가 최적인지 예측**할 수 있습니다.\n",
    "\n",
    "---\n",
    "\n",
    "### 📈 직선이 의미하는 것\n",
    "\n",
    "직선을 찾는다는 것은 다음을 의미합니다:\n",
    "\n",
    "- **두 변수 간의 관계**를 단순한 형태로 표현하려는 것\n",
    "- 변화하는 정도(기울기)와 기준점(절편)을 파악하는 것\n",
    "- 데이터를 설명하거나, **미래를 예측할 수 있는 수학적 표현**을 만드는 것\n",
    "\n",
    "> 📎 이런 과정을 통해 \"수많은 점들을 가장 잘 설명해주는 직선\"을 찾는 것이 바로 **선형 회귀(linear regression)**이며, 이 직선을 찾기 위한 알고리즘이 **경사하강법(Gradient Descent)**입니다.\n"
   ]
  },
  {
   "cell_type": "code",
   "execution_count": 16,
   "id": "c95faf8f-9f47-4248-95b4-86529e4878c5",
   "metadata": {
    "panel-layout": {
     "height": 0,
     "visible": true,
     "width": 100
    },
    "scrolled": true
   },
   "outputs": [
    {
     "name": "stdout",
     "output_type": "stream",
     "text": [
      "Epoch 0: w = 0.5616, b = 0.1472\n",
      "Epoch 100: w = 2.5485, b = -0.0099\n",
      "Epoch 200: w = 2.6782, b = -0.4782\n",
      "Epoch 300: w = 2.7706, b = -0.8120\n",
      "Epoch 400: w = 2.8365, b = -1.0499\n",
      "Epoch 500: w = 2.8835, b = -1.2194\n",
      "Epoch 600: w = 2.9170, b = -1.3402\n",
      "Epoch 700: w = 2.9408, b = -1.4263\n",
      "Epoch 800: w = 2.9578, b = -1.4877\n",
      "Epoch 900: w = 2.9699, b = -1.5315\n",
      "\n",
      "최종 결과: y = 2.98x + -1.56\n"
     ]
    }
   ],
   "source": [
    "# 데이터 준비\n",
    "x_data = [1, 2, 3, 4, 5]\n",
    "y_data = [4, 3, 5.8, 7, 17]\n",
    "\n",
    "# 초기값\n",
    "w = 0.0\n",
    "b = 0.0\n",
    "learning_rate = 0.01\n",
    "epochs = 1000\n",
    "\n",
    "# 경사하강법 학습\n",
    "for epoch in range(epochs):\n",
    "    dw = 0.0\n",
    "    db = 0.0\n",
    "    n = len(x_data)\n",
    "\n",
    "    for i in range(n):\n",
    "        y_pred = w * x_data[i] + b\n",
    "        error = y_pred - y_data[i]\n",
    "        dw += 2 * error * x_data[i]\n",
    "        db += 2 * error\n",
    "\n",
    "    dw /= n\n",
    "    db /= n\n",
    "\n",
    "    w -= learning_rate * dw\n",
    "    b -= learning_rate * db\n",
    "\n",
    "    if epoch % 100 == 0:\n",
    "        print(f\"Epoch {epoch}: w = {w:.4f}, b = {b:.4f}\")\n",
    "\n",
    "print(f\"\\n최종 결과: y = {w:.2f}x + {b:.2f}\")\n"
   ]
  },
  {
   "cell_type": "code",
   "execution_count": 17,
   "id": "4c563c66-8a31-413e-8adc-2dd5471b9802",
   "metadata": {
    "panel-layout": {
     "height": 701,
     "visible": true,
     "width": 100
    },
    "scrolled": true
   },
   "outputs": [
    {
     "data": {
      "image/png": "[encoded data removed]",
      "text/plain": [
       "<Figure size 640x480 with 1 Axes>"
      ]
     },
     "metadata": {},
     "output_type": "display_data"
    }
   ],
   "source": [
    "# 그래프 그리기\n",
    "import matplotlib.pyplot as plt\n",
    "\n",
    "# 예측값 생성\n",
    "y_pred = [w * x + b for x in x_data]\n",
    "\n",
    "# 시각화\n",
    "plt.scatter(x_data, y_data, label='Actual Data')\n",
    "plt.plot(x_data, y_pred, color='red', label=f'Prediction: y = {w:.2f}x + {b:.2f}')\n",
    "plt.xlabel('x')\n",
    "plt.ylabel('y')\n",
    "plt.title('Gradient Descent Result')\n",
    "plt.legend()\n",
    "plt.grid()\n",
    "plt.show()\n"
   ]
  },
  {
   "cell_type": "markdown",
   "id": "215850cc-317b-412c-b751-99516619c831",
   "metadata": {
    "panel-layout": {
     "height": 84.390625,
     "visible": true,
     "width": 100
    }
   },
   "source": [
    "## ✏️ 퀴즈 (Quiz Time!)\n",
    "\n",
    "1. 경사하강법이란 무엇인가요? 간단히 설명해보세요.\n",
    "\n"
   ]
  },
  {
   "cell_type": "markdown",
   "id": "ca4b39e7-2c88-4773-b7b2-ffafff51c6d3",
   "metadata": {
    "panel-layout": {
     "height": 51.1407470703125,
     "visible": true,
     "width": 100
    }
   },
   "source": [
    "2. 평균제곱오차(MSE)의 수식에서 오차를 제곱하는 이유는 무엇일까요?\n",
    "\n"
   ]
  },
  {
   "cell_type": "markdown",
   "id": "7ed23a4b-f4ae-441f-8181-15820345fae1",
   "metadata": {
    "panel-layout": {
     "height": 51.140625,
     "visible": true,
     "width": 100
    }
   },
   "source": [
    "3. 학습률(learning rate)이 너무 크면 어떤 문제가 발생할 수 있나요?\n",
    "\n"
   ]
  },
  {
   "cell_type": "code",
   "execution_count": null,
   "id": "c819f4e0-d6eb-457a-86c8-428d13602d68",
   "metadata": {},
   "outputs": [],
   "source": []
  },
  {
   "cell_type": "code",
   "execution_count": null,
   "id": "ccacada8-6b52-4646-9f84-6407728de88d",
   "metadata": {},
   "outputs": [],
   "source": []
  },
  {
   "cell_type": "code",
   "execution_count": null,
   "id": "cab40c27-88ec-43b0-9a88-92572cb3cabc",
   "metadata": {},
   "outputs": [],
   "source": []
  },
  {
   "cell_type": "markdown",
   "id": "24ff6eb7-4dac-4d82-9df1-8a9da4f3edfa",
   "metadata": {},
   "source": [
    "# ------------------------부록------------------------\n",
    "## ✍️ 우리가 알고 싶은 건 \"변화율\"\n",
    "\n",
    "함수 `y = f(x)`가 있을 때  \n",
    "**x가 조금 변했을 때, y는 얼마나 변할까?**\n",
    "\n",
    "이걸 알려주는 것이 바로 🎢  ***미분***이야!\n",
    "\n",
    "---\n",
    "\n",
    "### 🎢 예를 들어 볼까?\n",
    "\n",
    "```\n",
    "y = x^2\n",
    "```\n",
    "\n",
    "이 함수에서 x가 2에서 2.1로 바뀌면 y는 얼마나 바뀔까?\n",
    "\n",
    "```\n",
    "x = 2 → y = 4  \n",
    "x = 2.1 → y = 4.41\n",
    "```\n",
    "\n",
    "그러면 변화율은?\n",
    "\n",
    "```\n",
    "(4.41 - 4) / (2.1 - 2) = 0.41 / 0.1 = 4.1\n",
    "```\n",
    "\n",
    "이 값은 **x가 2 근처일 때의 평균 기울기**야.  \n",
    "이 간격을 더 작게 만들면 더 정확한 순간 기울기가 나오겠지? 😮\n"
   ]
  },
  {
   "cell_type": "code",
   "execution_count": 18,
   "id": "5031ca8a-c00a-44ef-ac4b-c6023e0aa044",
   "metadata": {},
   "outputs": [
    {
     "name": "stdout",
     "output_type": "stream",
     "text": [
      "📉 평균 기울기 (x = 2 기준):\n",
      "dx =    0.5 → 평균 기울기 ≈ 4.5000\n",
      "dx =    0.2 → 평균 기울기 ≈ 4.2000\n",
      "dx =    0.1 → 평균 기울기 ≈ 4.1000\n",
      "dx =   0.01 → 평균 기울기 ≈ 4.0100\n",
      "dx =  0.001 → 평균 기울기 ≈ 4.0010\n"
     ]
    }
   ],
   "source": [
    "import numpy as np\n",
    "import matplotlib.pyplot as plt\n",
    "\n",
    "def f(x):\n",
    "    return x**2  # x의 제곱, ** 은 지수 표현을 위한 프로그래밍의 기호(파이썬에서)\n",
    "\n",
    "x0 = 2\n",
    "dx = np.array([0.5, 0.2, 0.1, 0.01, 0.001])\n",
    "slopes = (f(x0 + dx) - f(x0)) / dx\n",
    "\n",
    "print(\"📉 평균 기울기 (x = 2 기준):\")\n",
    "for d, s in zip(dx, slopes):\n",
    "    print(f\"dx = {d:>6} → 평균 기울기 ≈ {s:.4f}\")\n"
   ]
  },
  {
   "cell_type": "code",
   "execution_count": null,
   "id": "b8d6dbe7-79a5-4a43-be17-9746c51bee7d",
   "metadata": {},
   "outputs": [],
   "source": []
  },
  {
   "cell_type": "code",
   "execution_count": null,
   "id": "382cc256-511c-4e45-ab14-d57726a25087",
   "metadata": {},
   "outputs": [],
   "source": []
  },
  {
   "cell_type": "markdown",
   "id": "228579c3-8a15-44ff-a3da-c662441afc99",
   "metadata": {},
   "source": [
    "# 📏 접선(Tangent Line)이란?\n",
    "\n",
    "어떤 곡선 위의 한 점에서 그 곡선과 딱 맞닿는 **직선**이 있어.  \n",
    "이걸 **접선**이라고 해. 접선의 기울기 = 바로 그 점에서의 **미분값**이야!\n",
    "\n",
    "---\n",
    "\n",
    "## 함수가 곡선일 땐?\n",
    "\n",
    "예: `y = x^2`  \n",
    "- x = 2일 때, y = 4  \n",
    "- 이 점에서의 접선 기울기 = f'(2) = 4  \n",
    "→ 즉, 이 점에서의 변화율은 4라는 의미야!\n",
    "\n",
    "그래서 이 접선은 이렇게 쓸 수 있어:\n",
    "\n",
    "```\n",
    "y = 4(x - 2) + 4\n",
    "```\n",
    "\n",
    "🧠 이건 수학적으로 `미분`을 통해 얻은 정보지!\n"
   ]
  },
  {
   "cell_type": "code",
   "execution_count": 19,
   "id": "93a25cf3-fd42-450d-ac3f-6ce3f07fff43",
   "metadata": {},
   "outputs": [
    {
     "data": {
      "image/png": "[encoded data removed]",
      "text/plain": [
       "<Figure size 640x480 with 1 Axes>"
      ]
     },
     "metadata": {},
     "output_type": "display_data"
    }
   ],
   "source": [
    "# 접선과 함수 같이 시각화\n",
    "x = np.linspace(0, 4, 100)\n",
    "y = f(x)\n",
    "\n",
    "x0 = 2\n",
    "y0 = f(x0)\n",
    "slope = 2 * x0  # y = x^2 이므로 f'(x) = 2x\n",
    "\n",
    "tangent = slope * (x - x0) + y0\n",
    "\n",
    "plt.plot(x, y, label='y = x^2')\n",
    "plt.plot(x, tangent, '--r', label='Tangent at x=2')\n",
    "plt.scatter([x0], [y0], color='red')\n",
    "plt.axhline(0, color='black', linewidth=0.5)\n",
    "plt.axvline(0, color='black', linewidth=0.5)\n",
    "plt.title('📐 Function and Tangent Line')\n",
    "plt.legend()\n",
    "plt.grid()\n",
    "plt.show()\n"
   ]
  },
  {
   "cell_type": "code",
   "execution_count": null,
   "id": "d78a41bc-112b-4fd8-baaf-dc36c77e700c",
   "metadata": {},
   "outputs": [],
   "source": []
  },
  {
   "cell_type": "code",
   "execution_count": null,
   "id": "9dc50c5b-7296-4403-8a21-ecb851af9f84",
   "metadata": {},
   "outputs": [],
   "source": []
  },
  {
   "cell_type": "markdown",
   "id": "f6f89266-cd16-4e01-a9f3-12579b8056b9",
   "metadata": {},
   "source": [
    "# 📘 도함수란?\n",
    "\n",
    "도함수는 **모든 x값에 대해 순간 변화율을 알려주는 함수**야.\n",
    "\n",
    "예: `f(x) = x^2` 의 도함수는?\n",
    "\n",
    "```\n",
    "f'(x) = 2x\n",
    "```\n",
    "\n",
    "이건 x가 어떤 값이든, 그 지점에서의 기울기를 알려줘!\n",
    "\n",
    "---\n",
    "\n",
    "## 예시 정리 🎯\n",
    "\n",
    "| x | f(x) = x^2 | f'(x) = 2x |\n",
    "|---|------------|------------|\n",
    "| 1 |     1      |     2      |\n",
    "| 2 |     4      |     4      |\n",
    "| 3 |     9      |     6      |\n",
    "\n",
    "---\n",
    "\n",
    "📎 도함수는 **함수의 기울기 정보 전체를 담고 있는 새로운 함수**야!\n"
   ]
  },
  {
   "cell_type": "code",
   "execution_count": 20,
   "id": "7644edb0-71c6-4935-9cbb-ff591ec48098",
   "metadata": {},
   "outputs": [
    {
     "data": {
      "image/png": "[encoded data removed]",
      "text/plain": [
       "<Figure size 640x480 with 1 Axes>"
      ]
     },
     "metadata": {},
     "output_type": "display_data"
    }
   ],
   "source": [
    "def df(x):\n",
    "    return 2 * x  # 도함수\n",
    "\n",
    "x = np.linspace(-3, 3, 100)\n",
    "y = f(x)\n",
    "dy = df(x)\n",
    "\n",
    "plt.plot(x, y, label='f(x) = x^2')\n",
    "plt.plot(x, dy, '--', label=\"f'(x) = 2x\")\n",
    "plt.title('📊 Function vs. Derivative')\n",
    "plt.xlabel('x')\n",
    "plt.ylabel('값')\n",
    "plt.grid()\n",
    "plt.legend()\n",
    "plt.show()\n"
   ]
  },
  {
   "cell_type": "code",
   "execution_count": null,
   "id": "d2d4a952-88d4-4f6b-bffe-18fb9f61fbe2",
   "metadata": {},
   "outputs": [],
   "source": []
  },
  {
   "cell_type": "code",
   "execution_count": null,
   "id": "ed09907d-013b-400e-835f-ead50962ed6b",
   "metadata": {},
   "outputs": [],
   "source": []
  },
  {
   "cell_type": "markdown",
   "id": "0e8362f0-21ac-4056-8909-2254b7eced74",
   "metadata": {},
   "source": [
    "# 🔖 정리\n",
    "\n",
    "- 미분은 **한 점에서의 기울기**를 구하는 것\n",
    "- 접선은 함수 위 한 점에서의 **기울기를 가진 직선**\n",
    "- 도함수는 **모든 x에 대한 기울기 함수**\n",
    "- 기울기 = 변화율 = 함수의 민감도\n",
    "\n",
    "---\n",
    "\n",
    "# ❓ 퀴즈\n",
    "\n",
    "1. `y = x^2`의 x = 3에서의 접선 기울기는?\n",
    "2. `f(x) = 3x^2 + 2x`의 도함수는 어떻게 될까?\n",
    "3. `y = x^2`의 도함수는 증가하는 함수일까, 감소하는 함수일까?\n",
    "\n",
    "---\n",
    "\n",
    "💡 수학은 '변화'를 이해하는 언어야.  \n",
    "이제 함수의 숨겨진 속도를 볼 수 있게 되었어! 🚀\n"
   ]
  },
  {
   "cell_type": "markdown",
   "id": "49212f83-6891-4cb0-8a23-3a517da5cf7c",
   "metadata": {},
   "source": [
    "---\n",
    "\n",
    "🙏 여러분, 끝까지 집중하며 따라와 주셔서 정말 고맙습니다!\n",
    "\n",
    "수학이나 프로그래밍이 처음이라면 조금 어렵게 느껴질 수도 있지만,  \n",
    "이해하려는 여러분의 노력 하나하나가 앞으로 큰 힘이 될 거예요.  \n",
    "\n",
    "함께 배우는 이 시간이 여러분의 성장에 작은 디딤돌이 되었기를 바랍니다.  \n",
    "오늘도 수고 많으셨고, 감사합니다. 😊\n",
    "\n",
    "---\n"
   ]
  },
  {
   "cell_type": "code",
   "execution_count": null,
   "id": "54a37a7c-3cea-4adf-8f5f-2ea5eca8171b",
   "metadata": {},
   "outputs": [],
   "source": []
  }
 ],
 "metadata": {
  "kernelspec": {
   "display_name": "Python [conda env:base] *",
   "language": "python",
   "name": "conda-base-py"
  },
  "language_info": {
   "codemirror_mode": {
    "name": "ipython",
    "version": 3
   },
   "file_extension": ".py",
   "mimetype": "text/x-python",
   "name": "python",
   "nbconvert_exporter": "python",
   "pygments_lexer": "ipython3",
   "version": "3.13.5"
  },
  "panel-cell-order": [
   "b0c7ae50-e07d-42a8-b11b-88faa63f1743",
   "25b4e960-ad96-4dcf-a2b2-9539c7198348",
   "c95faf8f-9f47-4248-95b4-86529e4878c5",
   "4c563c66-8a31-413e-8adc-2dd5471b9802",
   "215850cc-317b-412c-b751-99516619c831",
   "ca4b39e7-2c88-4773-b7b2-ffafff51c6d3",
   "7ed23a4b-f4ae-441f-8181-15820345fae1",
   "906c4cc1-4ea3-4b9a-bcc2-86a2ed039b79"
  ]
 },
 "nbformat": 4,
 "nbformat_minor": 5
}
