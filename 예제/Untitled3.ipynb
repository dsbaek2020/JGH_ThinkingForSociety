{
 "cells": [
  {
   "cell_type": "code",
   "execution_count": 4,
   "id": "4f6f8d80-7a42-444e-ba21-7f72878f0fc6",
   "metadata": {},
   "outputs": [
    {
     "name": "stdout",
     "output_type": "stream",
     "text": [
      "부모 유전자 데이터가 'parents_gene_data.csv'로 저장되었습니다.\n"
     ]
    }
   ],
   "source": [
    "import pandas as pd\n",
    "\n",
    "# 부모의 유전자 염기서열 (예시)\n",
    "father_gene = \"ATGCAGTCA\"\n",
    "mother_gene = \"CGTCAAGT\"\n",
    "\n",
    "# 부모 데이터를 딕셔너리 형태로 작성\n",
    "parent_data = {\n",
    "    'ID': [1, 2],  # 아버지(1), 어머니(2)\n",
    "    'Name': ['Father', 'Mother'],\n",
    "    'Gene_Sequence': [father_gene, mother_gene]\n",
    "}\n",
    "\n",
    "# 부모 데이터를 pandas DataFrame으로 변환\n",
    "df_parents = pd.DataFrame(parent_data)\n",
    "\n",
    "# 부모 데이터를 CSV 파일로 저장\n",
    "df_parents.to_csv('parents_gene_data.csv', index=False)\n",
    "\n",
    "# 결과 확인\n",
    "print(\"부모 유전자 데이터가 'parents_gene_data.csv'로 저장되었습니다.\")\n"
   ]
  },
  {
   "cell_type": "code",
   "execution_count": 6,
   "id": "9686d893-329c-46b6-8237-194199103f1a",
   "metadata": {},
   "outputs": [
    {
     "name": "stdout",
     "output_type": "stream",
     "text": [
      "세대 1 (부모):\n",
      "아버지 유전자: ATGCAGTCA\n",
      "어머니 유전자: CGTCAAGT\n",
      "\n",
      "세대 2 (자녀):\n",
      "자녀 유전자: ATGCAAGT\n",
      "\n",
      "세대 3 (자녀):\n",
      "자녀 유전자: ATGCAAGT\n",
      "\n",
      "가계도 유전자 데이터가 'family_gene_data.csv'로 저장되었습니다.\n"
     ]
    }
   ],
   "source": [
    "def track_gene_inheritance(father_gene, mother_gene):\n",
    "    \"\"\"\n",
    "    부모로부터 자녀에게 유전자 변이가 어떻게 전달되는지 추적하는 함수\n",
    "    :param father_gene: 아버지의 유전자 염기서열\n",
    "    :param mother_gene: 어머니의 유전자 염기서열\n",
    "    :return: 자녀의 유전자 염기서열 예측\n",
    "    \"\"\"\n",
    "    # 아버지와 어머니의 유전자를 반씩 결합하여 자녀의 유전자 생성\n",
    "    child_gene = father_gene[:len(father_gene)//2] + mother_gene[len(mother_gene)//2:]\n",
    "    return child_gene\n",
    "\n",
    "def print_family_tree(father_gene, mother_gene, generations=3):\n",
    "    \"\"\"\n",
    "    주어진 부모의 유전자 염기서열을 바탕으로 여러 세대에 걸쳐 자녀의 유전자 염기서열을 추적하는 함수\n",
    "    :param father_gene: 아버지의 유전자 염기서열\n",
    "    :param mother_gene: 어머니의 유전자 염기서열\n",
    "    :param generations: 추적할 세대 수\n",
    "    \"\"\"\n",
    "    current_generation = 1\n",
    "    current_father_gene = father_gene\n",
    "    current_mother_gene = mother_gene\n",
    "    \n",
    "    print(f\"세대 {current_generation} (부모):\")\n",
    "    print(f\"아버지 유전자: {current_father_gene}\")\n",
    "    print(f\"어머니 유전자: {current_mother_gene}\")\n",
    "    \n",
    "    # 여러 세대에 걸쳐 자녀의 유전자 염기서열을 추적\n",
    "    family_data = []\n",
    "    while current_generation < generations:\n",
    "        current_generation += 1\n",
    "        child_gene = track_gene_inheritance(current_father_gene, current_mother_gene)\n",
    "        print(f\"\\n세대 {current_generation} (자녀):\")\n",
    "        print(f\"자녀 유전자: {child_gene}\")\n",
    "        \n",
    "        family_data.append({'Generation': current_generation, 'Child_Gene': child_gene})\n",
    "        \n",
    "        # 자녀의 유전자를 다음 세대의 부모로 설정\n",
    "        current_father_gene = child_gene\n",
    "        current_mother_gene = child_gene  # 여기서는 자녀가 서로 결합하는 구조로 설정\n",
    "        \n",
    "    return family_data\n",
    "\n",
    "# 부모 데이터 CSV에서 읽기\n",
    "df_parents = pd.read_csv('parents_gene_data.csv')\n",
    "\n",
    "# 부모 유전자 염기서열\n",
    "father_gene = df_parents.loc[df_parents['Name'] == 'Father', 'Gene_Sequence'].values[0]\n",
    "mother_gene = df_parents.loc[df_parents['Name'] == 'Mother', 'Gene_Sequence'].values[0]\n",
    "\n",
    "# 가계도 추적: 3세대까지\n",
    "family_data = print_family_tree(father_gene, mother_gene, generations=3)\n",
    "\n",
    "# 자녀의 유전자 정보를 CSV로 저장\n",
    "df_family = pd.DataFrame(family_data)\n",
    "df_family.to_csv('family_gene_data.csv', index=False)\n",
    "\n",
    "print(\"\\n가계도 유전자 데이터가 'family_gene_data.csv'로 저장되었습니다.\")\n"
   ]
  },
  {
   "cell_type": "code",
   "execution_count": null,
   "id": "0c559f42-5ca2-4572-80fe-4ffcd8f81eac",
   "metadata": {},
   "outputs": [],
   "source": []
  }
 ],
 "metadata": {
  "kernelspec": {
   "display_name": "Python [conda env:base] *",
   "language": "python",
   "name": "conda-base-py"
  },
  "language_info": {
   "codemirror_mode": {
    "name": "ipython",
    "version": 3
   },
   "file_extension": ".py",
   "mimetype": "text/x-python",
   "name": "python",
   "nbconvert_exporter": "python",
   "pygments_lexer": "ipython3",
   "version": "3.13.5"
  }
 },
 "nbformat": 4,
 "nbformat_minor": 5
}
